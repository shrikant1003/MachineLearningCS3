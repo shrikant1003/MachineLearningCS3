{
  "nbformat": 4,
  "nbformat_minor": 0,
  "metadata": {
    "colab": {
      "name": "LisT.ipynb",
      "provenance": []
    },
    "kernelspec": {
      "name": "python3",
      "display_name": "Python 3"
    }
  },
  "cells": [
    {
      "cell_type": "markdown",
      "metadata": {
        "id": "-N6NcNj0n4Np",
        "colab_type": "text"
      },
      "source": [
        "\n",
        "#**Lists**\n",
        "\n",
        "A list is a collection of items, that is stored in a variable.\n",
        "The items should be related in some way, but there are no restrictions on what can be stored in a list.\n",
        "\n",
        "Syntax:\n",
        "\n",
        "list-name = [list of comma seperated values]\n",
        "\n",
        "**Slicing with list**\n",
        "\n",
        "index start with 0\n",
        "\n",
        "listname[index_number]\n",
        "\n",
        "listname[start_index:end_index]\n",
        "\n",
        "listname[:end_index]\n",
        "\n",
        "listname[start_index:]\n",
        "\n",
        "negative index: listname[:-index]\n",
        "\n",
        "**list methods**\n",
        "\n",
        "append()\n",
        "\n",
        "len()\n",
        "\n",
        "insert(index,value)\n",
        "\n",
        "sort()\n",
        "\n",
        "reverse()\n",
        "\n",
        "pop()\n",
        "\n",
        "pop(index)\n",
        "\n",
        "min()\n",
        "\n",
        "max()\n",
        "\n",
        "sum()\n",
        "\n",
        "We can change the contents of the lists after its creation\n",
        "\n",
        "listname[index]=newvalue\n",
        "\n",
        "**Task 1: Run below code and try to make some changes to the code** "
      ]
    },
    {
      "cell_type": "code",
      "metadata": {
        "id": "KaHql2z4n3Wj",
        "colab_type": "code",
        "colab": {
          "base_uri": "https://localhost:8080/",
          "height": 68
        },
        "outputId": "e88cb3a6-53f7-4d8e-9414-e5ca323125da"
      },
      "source": [
        "\n",
        "# list creation\n",
        "countries = ['India', 'Australia', 'USA']\n",
        "\n",
        "# print whole list\n",
        "print(countries)\n",
        "\n",
        "# Accessing list elements\n",
        "print(\"Value at 0 index: \",countries[0])\n",
        "\n",
        "# assignning new value to index\n",
        "countries[0]='Germany'\n",
        "\n",
        "print(\"New value at index 0: \",countries[0])"
      ],
      "execution_count": 1,
      "outputs": [
        {
          "output_type": "stream",
          "text": [
            "['India', 'Australia', 'USA']\n",
            "Value at 0 index:  India\n",
            "New value at index 0:  Germany\n"
          ],
          "name": "stdout"
        }
      ]
    },
    {
      "cell_type": "markdown",
      "metadata": {
        "id": "tAmdJH0rpIP4",
        "colab_type": "text"
      },
      "source": [
        "**Iterating lists**\n",
        "\n",
        "**Task 2: Run below code and try to make some changes to the code**"
      ]
    },
    {
      "cell_type": "code",
      "metadata": {
        "id": "zBlhkvHkpNRi",
        "colab_type": "code",
        "colab": {
          "base_uri": "https://localhost:8080/",
          "height": 102
        },
        "outputId": "01b35fb8-baf7-4dda-b2ee-c0ebdbc95a34"
      },
      "source": [
        "hybridlists=['My name is',\n",
        "             'I am in',\n",
        "             3,\n",
        "             'Semester']\n",
        "\n",
        "print(hybridlists)\n",
        "\n",
        "# we can access the elements of list using loops\n",
        "\n",
        "for item in hybridlists:\n",
        "    print(item)"
      ],
      "execution_count": 3,
      "outputs": [
        {
          "output_type": "stream",
          "text": [
            "['My name is', 'I am in', 3, 'Semester']\n",
            "My name is\n",
            "I am in\n",
            "3\n",
            "Semester\n"
          ],
          "name": "stdout"
        }
      ]
    },
    {
      "cell_type": "markdown",
      "metadata": {
        "id": "pUk6jvcUpmX6",
        "colab_type": "text"
      },
      "source": [
        "**Task 3: Run below code and try to make some changes to the code**"
      ]
    },
    {
      "cell_type": "code",
      "metadata": {
        "id": "v-envftdpql4",
        "colab_type": "code",
        "colab": {
          "base_uri": "https://localhost:8080/",
          "height": 102
        },
        "outputId": "77bb9b08-5e71-405f-8cbf-aeee38383827"
      },
      "source": [
        "# print the index number with value\n",
        "\n",
        "countries = ['India', 'Australia', 'USA']\n",
        "\n",
        "for index, country in enumerate(countries):\n",
        "    place = str(index)\n",
        "    print(\"Index: \" + place + \", Value: \" + country)\n",
        "    \n",
        "# find index of\n",
        "index = countries.index('India') \n",
        "print(\"\\n Index of India is: \",index)\n"
      ],
      "execution_count": 4,
      "outputs": [
        {
          "output_type": "stream",
          "text": [
            "Index: 0, Value: India\n",
            "Index: 1, Value: Australia\n",
            "Index: 2, Value: USA\n",
            "\n",
            " Index of India is:  0\n"
          ],
          "name": "stdout"
        }
      ]
    },
    {
      "cell_type": "markdown",
      "metadata": {
        "id": "egF3dmyppxlT",
        "colab_type": "text"
      },
      "source": [
        "**Task 4: Run below code and try to make some changes to the code**"
      ]
    },
    {
      "cell_type": "code",
      "metadata": {
        "id": "QDY6IWVnqalF",
        "colab_type": "code",
        "colab": {
          "base_uri": "https://localhost:8080/",
          "height": 34
        },
        "outputId": "6b1a32be-63dc-4107-c397-b3adc82af99b"
      },
      "source": [
        "# Remove the last country from the list by index or by value\n",
        "del countries[-1]\n",
        "\n",
        "print(countries)\n"
      ],
      "execution_count": 5,
      "outputs": [
        {
          "output_type": "stream",
          "text": [
            "['India', 'Australia']\n"
          ],
          "name": "stdout"
        }
      ]
    },
    {
      "cell_type": "markdown",
      "metadata": {
        "id": "ULW60qw4qjTn",
        "colab_type": "text"
      },
      "source": [
        "**List comprehension (with for loop)**\n",
        "\n",
        "**Task 5: Run below code and try to make some changes to the code**"
      ]
    },
    {
      "cell_type": "code",
      "metadata": {
        "id": "oJkNfg73rn1a",
        "colab_type": "code",
        "colab": {
          "base_uri": "https://localhost:8080/",
          "height": 34
        },
        "outputId": "ff3529c3-8796-4f4f-c8f2-1ddc13f68de8"
      },
      "source": [
        "\n",
        "# without comprehension\n",
        "\n",
        "cubes = []\n",
        "for x in [1, 2, 3, 4, 5]:\n",
        "    cubes.append(x ** 3) \n",
        "    \n",
        "print(cubes)"
      ],
      "execution_count": 6,
      "outputs": [
        {
          "output_type": "stream",
          "text": [
            "[1, 8, 27, 64, 125]\n"
          ],
          "name": "stdout"
        }
      ]
    },
    {
      "cell_type": "code",
      "metadata": {
        "id": "yPAggSCJr7lO",
        "colab_type": "code",
        "colab": {
          "base_uri": "https://localhost:8080/",
          "height": 34
        },
        "outputId": "b7692226-6fb9-4d42-c887-d64118dabec3"
      },
      "source": [
        "# with comprehension\n",
        "  \n",
        "cubes= [x**3 for x in [1, 2, 3, 4, 5]]\n",
        "print(cubes)"
      ],
      "execution_count": 8,
      "outputs": [
        {
          "output_type": "stream",
          "text": [
            "[1, 8, 27, 64, 125]\n"
          ],
          "name": "stdout"
        }
      ]
    },
    {
      "cell_type": "markdown",
      "metadata": {
        "id": "KcTghwwBsKm1",
        "colab_type": "text"
      },
      "source": [
        "\n",
        "**Program 1: Write a python program which does the following**\n",
        "\n",
        "a)Make a list that includes four job types , such as 'programmer', 'truck driver' and so on.\n",
        "\n",
        "b)Use the list.index() function to find the index of one job type in your list.\n",
        "\n",
        "c)Use the in function to show that this job type is in your list.\n",
        "\n",
        "d)Use the append() function to add a new job type to your list.\n",
        "\n",
        "e)Use the insert() function to add a new job type \"Python Programmer\" at the beginning of the list.\n",
        "\n",
        "f)Use a loop to show all the job types in your list."
      ]
    },
    {
      "cell_type": "code",
      "metadata": {
        "id": "X9TvqC5LsGOF",
        "colab_type": "code",
        "colab": {
          "base_uri": "https://localhost:8080/",
          "height": 238
        },
        "outputId": "a6bf952f-604b-482d-8b6d-d3bc6456b1ba"
      },
      "source": [
        "# Declaring Job Profiles\n",
        "Job_Profile = ['Driver', 'Writer', 'Manager', 'Teacher']\n",
        "\n",
        "# Finding index of Manager\n",
        "Manager_idx = Job_Profile.index('Manager')\n",
        "print(\"Index of 'Manager' is\", Manager_idx)\n",
        "print()\n",
        "\n",
        "# Checking whether Poet is in our list or not\n",
        "print('Poet' in Job_Profile)\n",
        "print()\n",
        "\n",
        "# Appending Poet in Job_Profile\n",
        "Job_Profile.append('Poet')\n",
        "print(Job_Profile)\n",
        "print()\n",
        "\n",
        "# Inserting Python Programmer at begining of list\n",
        "Job_Profile.insert(0, 'Python Programmer')\n",
        "print()\n",
        "\n",
        "for Job in Job_Profile:\n",
        "  print(Job)"
      ],
      "execution_count": 14,
      "outputs": [
        {
          "output_type": "stream",
          "text": [
            "Index of 'Manager' is 2\n",
            "\n",
            "False\n",
            "\n",
            "['Driver', 'Writer', 'Manager', 'Teacher', 'Poet']\n",
            "\n",
            "\n",
            "Python Programmer\n",
            "Driver\n",
            "Writer\n",
            "Manager\n",
            "Teacher\n",
            "Poet\n"
          ],
          "name": "stdout"
        }
      ]
    },
    {
      "cell_type": "markdown",
      "metadata": {
        "id": "wKy8u-3ws_es",
        "colab_type": "text"
      },
      "source": [
        "**Problem 2: Write a python program for following**\n",
        "\n",
        "a)Make a list that includes the names of five famous people.\n",
        "\n",
        "b)Remove each person from the list, one at a time, using the four methods given below:\n",
        "\n",
        "i)Del item from the list by del: del listname[index]\n",
        "\n",
        "ii)Remove the item from the list by remove method: listname.remove('itemname')\n",
        "\n",
        "iii)Using pop() method, It removes the last item from the list: listname.pop()\n",
        "\n",
        "iv)Pop any item from the list by index: listname: listname.pop(index)\n",
        "\n",
        "v)Print out a message that there are no famous people left in your list, and print your list to prove that it is empty."
      ]
    },
    {
      "cell_type": "code",
      "metadata": {
        "id": "04s358RTtQhU",
        "colab_type": "code",
        "colab": {
          "base_uri": "https://localhost:8080/",
          "height": 119
        },
        "outputId": "4a10a234-e178-4abd-934a-547a845154bb"
      },
      "source": [
        "# Making the list\n",
        "Famous_Persons = ['Virat Kohli', 'Hritik Roshan', 'Vishwanathan Anand', 'Satya Nadella', 'Elon Musk' ]\n",
        "\n",
        "# Removing list item\n",
        "del Famous_Persons[2]\n",
        "print(Famous_Persons)\n",
        "\n",
        "Famous_Persons.remove('Satya Nadella')\n",
        "print(Famous_Persons)\n",
        "\n",
        "Famous_Persons.pop()\n",
        "print(Famous_Persons)\n",
        "\n",
        "Famous_Persons.pop(0)\n",
        "print(Famous_Persons)\n",
        "\n",
        "Famous_Persons.pop()\n",
        "print(Famous_Persons)\n",
        "\n",
        "print(\"No Famous People are left into the list.\")"
      ],
      "execution_count": 15,
      "outputs": [
        {
          "output_type": "stream",
          "text": [
            "['Virat Kohli', 'Hritik Roshan', 'Satya Nadella', 'Elon Musk']\n",
            "['Virat Kohli', 'Hritik Roshan', 'Elon Musk']\n",
            "['Virat Kohli', 'Hritik Roshan']\n",
            "['Hritik Roshan']\n",
            "[]\n",
            "No Famous People are left into the list.\n"
          ],
          "name": "stdout"
        }
      ]
    },
    {
      "cell_type": "markdown",
      "metadata": {
        "id": "3q8H91sYtXqO",
        "colab_type": "text"
      },
      "source": [
        "\n",
        "**Program 3: Write a python program which does the following**\n",
        "\n",
        "a)Store the first ten letters of the alphabet in a list.\n",
        "\n",
        "b)Use a slice to print out the first three letters of the alphabet.\n",
        "\n",
        "c)Use a slice to print out any three letters from the middle of your list.\n",
        "\n",
        "d)Use a slice to print out the letters from any point in the middle of your list, to the end."
      ]
    },
    {
      "cell_type": "code",
      "metadata": {
        "id": "kTnSpatGtlR_",
        "colab_type": "code",
        "colab": {
          "base_uri": "https://localhost:8080/",
          "height": 68
        },
        "outputId": "f1589021-22f9-4ae1-f7e3-0d824ab9fbb2"
      },
      "source": [
        "# Making the alphabet list\n",
        "Alphabet = ['a', 'b', 'c', 'd', 'e', 'f', 'g', 'h', 'i', 'j']\n",
        "\n",
        "# Printing out First 3 letters\n",
        "print(Alphabet[:3])\n",
        "\n",
        "# Printing out any 3 letters from middle\n",
        "print(Alphabet[3:6])\n",
        "\n",
        "# Printing out last 5 elements\n",
        "print(Alphabet[5:])"
      ],
      "execution_count": 16,
      "outputs": [
        {
          "output_type": "stream",
          "text": [
            "['a', 'b', 'c']\n",
            "['d', 'e', 'f']\n",
            "['f', 'g', 'h', 'i', 'j']\n"
          ],
          "name": "stdout"
        }
      ]
    },
    {
      "cell_type": "markdown",
      "metadata": {
        "id": "Q_gsbGHatqVw",
        "colab_type": "text"
      },
      "source": [
        "**Program 4: Write a python program for following**\n",
        "\n",
        "Your goal in this exercise is to prove that copying a list protects the original list.\n",
        "\n",
        "a)Make a list with three people's names in it.\n",
        "\n",
        "b)Use a slice to make a copy of the entire list.\n",
        "\n",
        "c)Add at least two new names to the new copy of the list.\n",
        "\n",
        "d)Make a loop that prints out all of the names in the original list, along with a message that this is the original list.\n",
        "\n",
        "e)Make a loop that prints out all of the names in the copied list, along with a message that this is the copied list."
      ]
    },
    {
      "cell_type": "code",
      "metadata": {
        "id": "AVKaXC_ct5jO",
        "colab_type": "code",
        "colab": {
          "base_uri": "https://localhost:8080/",
          "height": 204
        },
        "outputId": "8a957b4c-7add-4dd8-8c8a-e53258112726"
      },
      "source": [
        "# Making The List\n",
        "People_Orig = ['Honey', 'Bunny', 'Toney']\n",
        "\n",
        "# Making a Copy\n",
        "People_Copy = People_Orig[:]\n",
        "\n",
        "# Adding 2 People\n",
        "People_Copy.append('Goluu')\n",
        "People_Copy.append('Chintoo')\n",
        "\n",
        "# Displaying Original List\n",
        "print(\"This is the Original List...\")\n",
        "for name in People_Orig:\n",
        "  print(name)\n",
        "\n",
        "print()\n",
        "# Displaying Copied List\n",
        "print(\"This is the copied List...\")\n",
        "for name in People_Copy:\n",
        "  print(name)"
      ],
      "execution_count": 18,
      "outputs": [
        {
          "output_type": "stream",
          "text": [
            "This is the Original List...\n",
            "Honey\n",
            "Bunny\n",
            "Toney\n",
            "\n",
            "This is the copied List...\n",
            "Honey\n",
            "Bunny\n",
            "Toney\n",
            "Goluu\n",
            "Chintoo\n"
          ],
          "name": "stdout"
        }
      ]
    },
    {
      "cell_type": "markdown",
      "metadata": {
        "id": "775L7MeRuEfP",
        "colab_type": "text"
      },
      "source": [
        "**Program 5: Write a python program for following**\n",
        "\n",
        "a)Create a list to store the marks of top 15 students obtained by the students in Python Quiz held on 21/08/2018. Maximum marks=15\n",
        "\n",
        "b)Print the maximum marks obtained by the student from the list.\n",
        "\n",
        "c)Print the minimum marks obtained by the student.\n",
        "\n",
        "d)Find the sum of all the marks.\n",
        "\n",
        "e)Find the average of the marks.\n",
        "\n",
        "f)Reverse the original list and display using for loop."
      ]
    },
    {
      "cell_type": "code",
      "metadata": {
        "id": "t4hcQsjtuS0I",
        "colab_type": "code",
        "colab": {
          "base_uri": "https://localhost:8080/",
          "height": 340
        },
        "outputId": "06ae3a0a-0894-4334-b93f-4be40e698d7c"
      },
      "source": [
        "Marks = [12, 14, 15, 10, 11, 10, 13, 14, 13, 12, 15, 11, 12, 13, 14]\n",
        "\n",
        "print(\"Maximum marks obtained: \", max(Marks))\n",
        "print(\"Minimum marks obtained: \", min(Marks))\n",
        "print(\"Sum of marks obtained: \", sum(Marks))\n",
        "print(\"Average marks obtained: \", sum(Marks)/15)\n",
        "\n",
        "rev_marks = Marks[::-1]\n",
        "for i in rev_marks:\n",
        "    print(i)"
      ],
      "execution_count": 19,
      "outputs": [
        {
          "output_type": "stream",
          "text": [
            "Maximum marks obtained:  15\n",
            "Minimum marks obtained:  10\n",
            "Sum of marks obtained:  189\n",
            "Average marks obtained:  12.6\n",
            "14\n",
            "13\n",
            "12\n",
            "11\n",
            "15\n",
            "12\n",
            "13\n",
            "14\n",
            "13\n",
            "10\n",
            "11\n",
            "10\n",
            "15\n",
            "14\n",
            "12\n"
          ],
          "name": "stdout"
        }
      ]
    },
    {
      "cell_type": "markdown",
      "metadata": {
        "id": "RuPA7TJauYZG",
        "colab_type": "text"
      },
      "source": [
        "**Program 6: Write a program in Python to create a list which contains n integers entered by the user and delete all odd numbers from the list. Example: If initial contents of the list is=[1,2,3,4,5,6,7,8,9,10], the output would be=[2,4,6,8,10].**"
      ]
    },
    {
      "cell_type": "code",
      "metadata": {
        "id": "YaLk6bbaufa2",
        "colab_type": "code",
        "colab": {
          "base_uri": "https://localhost:8080/",
          "height": 102
        },
        "outputId": "1f8756b7-9c0e-4ba0-ce33-57687f6896d3"
      },
      "source": [
        "n = int(input(\"Enter any number: \"))\n",
        "Numbers = []\n",
        "\n",
        "for i in range(n):\n",
        "  Num = int(input(\"Enter the number: \"))\n",
        "  Numbers.append(Num)\n",
        "\n",
        "print(\"Initial List: \", Numbers)\n",
        "lst = Numbers\n",
        "for i in lst:\n",
        "  if i%2 != 0:\n",
        "    Numbers.remove(i)\n",
        "\n",
        "print(\"Updated List: \", Numbers)"
      ],
      "execution_count": 20,
      "outputs": [
        {
          "output_type": "stream",
          "text": [
            "Enter any number: 2\n",
            "Enter the number: 12\n",
            "Enter the number: 34\n",
            "Initial List:  [12, 34]\n",
            "Updated List:  [12, 34]\n"
          ],
          "name": "stdout"
        }
      ]
    }
  ]
}