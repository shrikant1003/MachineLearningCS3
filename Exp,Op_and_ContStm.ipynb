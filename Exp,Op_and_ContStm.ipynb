{
  "nbformat": 4,
  "nbformat_minor": 0,
  "metadata": {
    "colab": {
      "name": "Exp,Op and ContStm.ipynb",
      "provenance": []
    },
    "kernelspec": {
      "name": "python3",
      "display_name": "Python 3"
    }
  },
  "cells": [
    {
      "cell_type": "code",
      "metadata": {
        "id": "jqngi6rHwHvS",
        "colab_type": "code",
        "colab": {}
      },
      "source": [
        ""
      ],
      "execution_count": 0,
      "outputs": []
    },
    {
      "cell_type": "markdown",
      "metadata": {
        "id": "IpRoYVkgwPOu",
        "colab_type": "text"
      },
      "source": [
        "\n",
        "#**Expressions, Operators, Control statements**\n",
        "\n",
        "\n",
        "Operators\n",
        "\n",
        "\n",
        "Arithmetic (+, -, *, /, //, %)\n",
        "\n",
        "Relational (<, >, <=, >=, !=, ==)\n",
        "\n",
        "Shift (>>, <<)\n",
        "\n",
        "Assignment (=)\n",
        "\n",
        "Logical (and, or, not)\n",
        "\n",
        "Bitwise (&, |, !)\n",
        "\n",
        "'in' and 'not in' operator\n",
        "\n",
        "\n",
        "#**<< and >>**\n",
        "\n",
        "if n=8 (1000 in binary), n>>1 will give 100 after shifting bits by 1 place to right. n<<1 will give 10000 after shifting bits by 1 place to left."
      ]
    },
    {
      "cell_type": "code",
      "metadata": {
        "id": "1Fv62k4gwlwD",
        "colab_type": "code",
        "colab": {
          "base_uri": "https://localhost:8080/",
          "height": 68
        },
        "outputId": "311c5784-f0ed-4c42-f749-513b9e36b68d"
      },
      "source": [
        "n=9\n",
        "print(n,'binary',format(n,'b'))\n",
        "print(n,'* 2=',n<<1, format(n<<1,'b'))\n",
        "print(n,'/ 2=',n>>1,format(n>>1,'b'))"
      ],
      "execution_count": 4,
      "outputs": [
        {
          "output_type": "stream",
          "text": [
            "9 binary 1001\n",
            "9 * 2= 18 10010\n",
            "9 / 2= 4 100\n"
          ],
          "name": "stdout"
        }
      ]
    },
    {
      "cell_type": "code",
      "metadata": {
        "id": "_cQvl7kRwt6z",
        "colab_type": "code",
        "colab": {
          "base_uri": "https://localhost:8080/",
          "height": 68
        },
        "outputId": "9ffe910b-53e2-4856-a153-9194235da2eb"
      },
      "source": [
        "\n",
        "# logical\n",
        "x = True\n",
        "y = False\n",
        "print('x and y is',x and y) # Output: x and y is False\n",
        "print('x or y is',x or y) # Output: x or y is True\n",
        "print('not x is',not x) # Output: not x is False"
      ],
      "execution_count": 5,
      "outputs": [
        {
          "output_type": "stream",
          "text": [
            "x and y is False\n",
            "x or y is True\n",
            "not x is False\n"
          ],
          "name": "stdout"
        }
      ]
    },
    {
      "cell_type": "code",
      "metadata": {
        "id": "QbSGLLtUw1cV",
        "colab_type": "code",
        "colab": {
          "base_uri": "https://localhost:8080/",
          "height": 68
        },
        "outputId": "a9c77dc9-9e63-463e-d01f-981d772b657b"
      },
      "source": [
        "\n",
        "# bitwise\n",
        "x=12 \n",
        "y=4\n",
        "print(x & y) \n",
        "print(x | y)\n",
        "print(x ^ y)"
      ],
      "execution_count": 6,
      "outputs": [
        {
          "output_type": "stream",
          "text": [
            "4\n",
            "12\n",
            "8\n"
          ],
          "name": "stdout"
        }
      ]
    },
    {
      "cell_type": "code",
      "metadata": {
        "id": "8u5xgyi0w4uE",
        "colab_type": "code",
        "colab": {}
      },
      "source": [
        "# in and not in\n",
        "\n",
        "x = 'Hello world'\n",
        "print('H' in x)    # Output: True\n",
        "print('h' not in x)   # Output: True"
      ],
      "execution_count": 0,
      "outputs": []
    },
    {
      "cell_type": "code",
      "metadata": {
        "id": "436-jdaVw8Zr",
        "colab_type": "code",
        "colab": {}
      },
      "source": [
        "\n",
        "import cmath\n",
        "a=complex(20+5j)\n",
        "b=complex(5+3j)\n",
        "print('a+b',a+b)\n",
        "print('a-b',a-b)\n",
        "print('a*b',a*b)\n",
        "print('a/b',a/b)"
      ],
      "execution_count": 0,
      "outputs": []
    },
    {
      "cell_type": "markdown",
      "metadata": {
        "id": "xjnf7iGCw_yk",
        "colab_type": "text"
      },
      "source": [
        "**Task1 Write a program in python to calculate area of triangle when all three sides are given.**\n",
        "\n",
        "s=(a+b+c)/2\n",
        "\n",
        "area = √(s(s-a)(s-b)(s-c) )"
      ]
    },
    {
      "cell_type": "code",
      "metadata": {
        "id": "gyGkOoKwxH_T",
        "colab_type": "code",
        "colab": {
          "base_uri": "https://localhost:8080/",
          "height": 85
        },
        "outputId": "c867ba9d-10f0-490f-c65c-75b8280463ae"
      },
      "source": [
        "# write your code after this line\n",
        "import math\n",
        "s1=int(input(\"Enter side1 of triangle\"))\n",
        "s2=int(input(\"Enter side2 of triangle\"))\n",
        "s3=int(input(\"Enter side3 of triangle\"))\n",
        "s=(s1+s2+s3)/2\n",
        "area=(s*(s-s1)*(s-s2)*(s-s3))\n",
        "n=abs(area)\n",
        "areaf=math.sqrt(n)\n",
        "print(areaf)"
      ],
      "execution_count": 7,
      "outputs": [
        {
          "output_type": "stream",
          "text": [
            "Enter side1 of triangle12\n",
            "Enter side2 of triangle5\n",
            "Enter side3 of triangle13\n",
            "30.0\n"
          ],
          "name": "stdout"
        }
      ]
    },
    {
      "cell_type": "markdown",
      "metadata": {
        "id": "xlf9x7L1xRqj",
        "colab_type": "text"
      },
      "source": [
        "#**Control Statements**\n",
        "\n",
        "**Decisions (if-else)**\n",
        "\n",
        "#**simple if-else**\n",
        "\n",
        "if(cond): stmt else: stmt\n",
        "\n",
        "#**if-else-if**\n",
        "\n",
        "if(cond): stmt elif(cond): stmt . . . else: stmt\n",
        "\n",
        "#**nested if-else**\n",
        "                        if(cond):\n",
        "                            stmt\n",
        "                            if(cond):\n",
        "                                stmt1\n",
        "                        else:\n",
        "                            if(cond):\n",
        "                                stmt3\n",
        "                            else:\n",
        "                                stmt4\n",
        "                              \n",
        "**Task2: Write a proram that accept a lowercase/uppercase character from the user and check whether the character is a vowel or consonant.**\n"
      ]
    },
    {
      "cell_type": "code",
      "metadata": {
        "id": "l-Na0aDxxwvM",
        "colab_type": "code",
        "colab": {
          "base_uri": "https://localhost:8080/",
          "height": 51
        },
        "outputId": "8f924312-e672-4497-96f1-cec2e627b855"
      },
      "source": [
        "# write your code after this line\n",
        "ch=input(\"Enter a letter \")\n",
        "if(ch == 'a' or ch == 'e' or ch == 'i' or ch == 'o' or ch == 'u' or ch == 'A'\n",
        "       or ch == 'E' or ch == 'I' or ch == 'O' or ch == 'U'):\n",
        "  print(\"Character entered is Vowel \")\n",
        "else:\n",
        "  print(\"Character is consonant \")"
      ],
      "execution_count": 8,
      "outputs": [
        {
          "output_type": "stream",
          "text": [
            "Enter a letter a\n",
            "Character entered is Vowel \n"
          ],
          "name": "stdout"
        }
      ]
    },
    {
      "cell_type": "markdown",
      "metadata": {
        "id": "3WmJnV7Bx1bM",
        "colab_type": "text"
      },
      "source": [
        "**Task3: Write a program to check whether given character is a digit or a character in lowercase or uppercase alphabet. Hint: ASCII value of digit is between 48 to 58 and Lowercase characters in the range of 97 to122, uppercase is between 65 and 90).**\n"
      ]
    },
    {
      "cell_type": "code",
      "metadata": {
        "id": "sTJEWm0dx6Is",
        "colab_type": "code",
        "colab": {}
      },
      "source": [
        "# write your code after this line\n",
        "ch=input(\"Enter a digit(ASCII) or character\") \n",
        "if (ch>='48' and ch<='58'):\n",
        "  print(\"Its a digit\")\n",
        "if(ch>='97' and ch<='122'):\n",
        "  print(\"Character is lowercase\")\n",
        "if(ch>='65' and ch<='90'):\n",
        "  print(\"Character is uppercase\")\n"
      ],
      "execution_count": 0,
      "outputs": []
    },
    {
      "cell_type": "markdown",
      "metadata": {
        "id": "v_gcaQQlx_hM",
        "colab_type": "text"
      },
      "source": [
        "#**Repetition or loop**\n",
        "\n",
        "-> **while loop**\n",
        "\n",
        "-> **for loop**\n",
        "\n",
        "**While loop**\n",
        "\n",
        "initialization of loop variable while( condition ): stmt 1 stmt 2 ... update loop variable\n",
        "\n",
        "**Task 4: Write a program in Python to print table of any number 'n' provided by user using while loop.**"
      ]
    },
    {
      "cell_type": "code",
      "metadata": {
        "id": "4nT8rmFzyXdU",
        "colab_type": "code",
        "colab": {}
      },
      "source": [
        "# write your code after this line\n",
        "n = int(input(\"Enter any number : \"))\n",
        "for i in range(1, 11):\n",
        "  print(n,\" x \", i, \" = \", n*i)\n"
      ],
      "execution_count": 0,
      "outputs": []
    },
    {
      "cell_type": "markdown",
      "metadata": {
        "id": "jaR2SYcOycp9",
        "colab_type": "text"
      },
      "source": [
        "**Task 5: Write a program in Python to evaluate the following series using while loop:**\n",
        "\n",
        "1! + 2! + 3! + 4! ...+ n!\n",
        "\n",
        "(hint: use math.factorial(n) function to calculate factorial of number n.)"
      ]
    },
    {
      "cell_type": "code",
      "metadata": {
        "id": "4Miy2aJryls0",
        "colab_type": "code",
        "colab": {}
      },
      "source": [
        "import math\n",
        "Sum = 0\n",
        "n = int(input(\"Enter any number : \"))\n",
        "for i in range(1, n+1):\n",
        "  Fact = math.factorial(i)\n",
        "  Sum += Fact\n",
        "\n",
        "print(\"Sum of series is: \", Sum)"
      ],
      "execution_count": 0,
      "outputs": []
    },
    {
      "cell_type": "code",
      "metadata": {
        "id": "h_7Xyz19yr8l",
        "colab_type": "code",
        "colab": {}
      },
      "source": [
        "# write your code after this line\n",
        "n, fact = int(input(\"Enter the number : \")), 1\n",
        "for i in range(1,n+1):\n",
        "  fact *= i\n",
        "print(\"Factorial        :\",fact)\n"
      ],
      "execution_count": 0,
      "outputs": []
    },
    {
      "cell_type": "markdown",
      "metadata": {
        "id": "MJ3H81VWywPl",
        "colab_type": "text"
      },
      "source": [
        "**Task 6: Write a program in Python to enter the numbers till the user wants and at the end it should display the maximum number entered using while loop**"
      ]
    },
    {
      "cell_type": "code",
      "metadata": {
        "id": "zDxQ3eR1yzfb",
        "colab_type": "code",
        "colab": {}
      },
      "source": [
        "# write your code after this line\n",
        "L = list(map(int, input().split()))\n",
        "n = len(L)\n",
        "i = 0\n",
        "Max = L[0]\n",
        "while(i<n):\n",
        "  if (L[i]>=Max):\n",
        "    Max = L[i]  \n",
        "  \n",
        "  i += 1\n",
        "\n",
        "print(\"Maximum is: \", Max)\n"
      ],
      "execution_count": 0,
      "outputs": []
    },
    {
      "cell_type": "markdown",
      "metadata": {
        "id": "7rgQ9kSey2CF",
        "colab_type": "text"
      },
      "source": [
        "\n",
        "#**for loop**\n",
        "\n",
        "for iterable_var_name in range(terminating_value): stmt 1 stmt 2 ...\n",
        "\n",
        "for iterable_var_name in range(initial_value,terminating_value): stmt 1 stmt 2 ...\n",
        "\n",
        "for iterable_var_name in range(initial_value,terminating_value,updation): stmt 1 stmt 2 ..."
      ]
    },
    {
      "cell_type": "code",
      "metadata": {
        "id": "QWoSCgbYzDbt",
        "colab_type": "code",
        "colab": {}
      },
      "source": [
        "# factorial\n",
        "n=int(input('Enter a number '))\n",
        "fact=1\n",
        "for i in range(n,1,-1):\n",
        "    fact=fact*i\n",
        "print(n,'! =',fact)"
      ],
      "execution_count": 0,
      "outputs": []
    },
    {
      "cell_type": "markdown",
      "metadata": {
        "id": "acgHoHR4zHzq",
        "colab_type": "text"
      },
      "source": [
        "**Task 7:Write a program in Python to print all numbers from 0 to 9 except 3 and 6 using a for loop.**"
      ]
    },
    {
      "cell_type": "code",
      "metadata": {
        "id": "6KWlbawmzMba",
        "colab_type": "code",
        "colab": {}
      },
      "source": [
        "# write your code after this line\n",
        "for i in range(0, 10):\n",
        "  if i == 3 or i == 6:\n",
        "    continue\n",
        "  else:\n",
        "    print(i)"
      ],
      "execution_count": 0,
      "outputs": []
    },
    {
      "cell_type": "markdown",
      "metadata": {
        "id": "ki5HWRnUzUa7",
        "colab_type": "text"
      },
      "source": [
        "**2. Write a program in Python to get 10 numbers from user using a for loop. The program should print the count of positive numbers, negative numbers and zeroes entered by the user.**"
      ]
    },
    {
      "cell_type": "code",
      "metadata": {
        "id": "Qf9pmsRIzY5G",
        "colab_type": "code",
        "colab": {}
      },
      "source": [
        "\n",
        "a, b, c = 0, 0, 0\n",
        "for i in range(1, 11):\n",
        "  N = int(input(\"Enter a number: \"))\n",
        "\n",
        "  if N > 0:\n",
        "    a += 1\n",
        "  elif N == 0:\n",
        "    b += 1\n",
        "  elif N < 0:\n",
        "    c += 1\n",
        "\n",
        "print(a, b, c)"
      ],
      "execution_count": 0,
      "outputs": []
    }
  ]
}